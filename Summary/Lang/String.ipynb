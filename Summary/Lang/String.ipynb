{
 "cells": [
  {
   "cell_type": "markdown",
   "metadata": {},
   "source": [
    "## Data Type\n",
    "### String"
   ]
  },
  {
   "cell_type": "markdown",
   "metadata": {},
   "source": [
    "#### 1. %-formatting"
   ]
  },
  {
   "cell_type": "code",
   "execution_count": 81,
   "metadata": {},
   "outputs": [
    {
     "name": "stdout",
     "output_type": "stream",
     "text": [
      "error: disk failure\n",
      " 5.50 is a number of disk failure\n"
     ]
    }
   ],
   "source": [
    "msg = 'disk failure'\n",
    "x = 5.5\n",
    "print('error: %s' % msg)\n",
    "# 5.2f stands for float with hold 5 digit width and round to the 2nd digit\n",
    "print('%5.2f is a number of %s' % (x, msg))"
   ]
  },
  {
   "cell_type": "markdown",
   "metadata": {},
   "source": [
    "#### 2. str.format()"
   ]
  },
  {
   "cell_type": "code",
   "execution_count": 82,
   "metadata": {},
   "outputs": [
    {
     "name": "stdout",
     "output_type": "stream",
     "text": [
      "The value is 5.5.\n",
      "The value is 5.5.\n",
      "f-string:\n",
      "The value is 5.5.\n",
      "---- other examples\n",
      "Hello, Eric. You are 74.\n",
      "Hello, Eric. You are 74.\n"
     ]
    }
   ],
   "source": [
    "# very verbose\n",
    "x = 5.5\n",
    "print('The value is {x}.'.format(x=x))\n",
    "print('The value is {}.'.format(x))\n",
    "\n",
    "# compared with f string\n",
    "print('f-string:')\n",
    "print(f'The value is {x}.')\n",
    "\n",
    "# other examples\n",
    "print('---- other examples')\n",
    "person = {'name': 'Eric', 'age': 74}\n",
    "print(\"Hello, {name}. You are {age}.\".format(name=person['name'], age=person['age']))\n",
    "print(\"Hello, {name}. You are {age}.\".format(**person))"
   ]
  },
  {
   "cell_type": "markdown",
   "metadata": {},
   "source": [
    "#### 3. f-string (Literal String Interpolation)\n",
    "\n",
    "- f-string are faster than both %-formatting and str.format()\n",
    "- evaluate at runtime rather than constant value"
   ]
  },
  {
   "cell_type": "code",
   "execution_count": 83,
   "metadata": {
    "scrolled": true
   },
   "outputs": [
    {
     "name": "stdout",
     "output_type": "stream",
     "text": [
      "input=0x04d2\n",
      "1992-05-27 was a Wednesday\n",
      "-- Arbitrary Expressions -- \n",
      "- evaluate an equation: \n",
      "74\n",
      "- evaluate a function:\n",
      "charles zhang is funny.\n",
      "- even a class:\n",
      "Eric Idle is 74.\n",
      "Eric Idle is 74. Surprise!\n",
      "-Multiple Line f-strings:\n",
      "Hi Eric. You are a comedian. You were in Monty Python.\n",
      "Hi Eric. You are a comedian. You were in Monty Python.\n",
      "\n",
      "     Hi Eric. \n",
      "     You are a comedian. \n",
      "     You were in Monty Python.\n",
      "\n"
     ]
    }
   ],
   "source": [
    "# https://www.python.org/dev/peps/pep-0498/\n",
    "# https://docs.python.org/3/reference/lexical_analysis.html#f-strings\n",
    "import datetime\n",
    "# specify format, this is also availble in \n",
    "v = 1234\n",
    "print(f'input={v:#06x}')\n",
    "\n",
    "# specify date format\n",
    "date = datetime.date(1992, 5, 27)\n",
    "print(f'{date} was a {date:%A}')\n",
    "\n",
    "# Arbitrary Expressions\n",
    "print('-- Arbitrary Expressions -- ')\n",
    "print('- evaluate an equation: ')\n",
    "print(f'{2 * 37}')\n",
    "\n",
    "print('- evaluate a function:')\n",
    "name = 'Charles Zhang'\n",
    "print(f'{name.lower()} is funny.')\n",
    "\n",
    "print('- even a class:')\n",
    "class Comedian:\n",
    "    def __init__(self, first_name, last_name, age):\n",
    "        self.first_name = first_name\n",
    "        self.last_name = last_name\n",
    "        self.age = age\n",
    "\n",
    "    def __str__(self):\n",
    "        return f\"{self.first_name} {self.last_name} is {self.age}.\"\n",
    "\n",
    "    def __repr__(self):\n",
    "        return f\"{self.first_name} {self.last_name} is {self.age}. Surprise!\"\n",
    "\n",
    "n_c = Comedian(\"Eric\", \"Idle\", \"74\")\n",
    "print(f'{n_c}')\n",
    "print(f'{n_c!r}')\n",
    "\n",
    "# Multiple lines\n",
    "name = \"Eric\"\n",
    "profession = \"comedian\"\n",
    "affiliation = \"Monty Python\"\n",
    "print('-Multiple Line f-strings:')\n",
    "message = (\n",
    "     f\"Hi {name}. \"\n",
    "     f\"You are a {profession}. \"\n",
    "     f\"You were in {affiliation}.\"\n",
    ")\n",
    "print(message)\n",
    "\n",
    "## Or\n",
    "message = f\"Hi {name}. \" \\\n",
    "          f\"You are a {profession}. \" \\\n",
    "          f\"You were in {affiliation}.\"\n",
    "print(message)\n",
    "\n",
    "message = f\"\"\"\n",
    "     Hi {name}. \n",
    "     You are a {profession}. \n",
    "     You were in {affiliation}.\n",
    "\"\"\"\n",
    "print(message)"
   ]
  },
  {
   "cell_type": "code",
   "execution_count": 91,
   "metadata": {},
   "outputs": [
    {
     "name": "stdout",
     "output_type": "stream",
     "text": [
      "1. quotation marks\n",
      "Eric Idle\n",
      "The \"comedian\" is Eric, aged 16.\n",
      "The name is Charles, aged 26.\n",
      "{ 75 }\n"
     ]
    }
   ],
   "source": [
    "# others\n",
    "# 1. quotation marks\n",
    "print('1. quotation marks')\n",
    "name = 'Eric'\n",
    "age = '16'\n",
    "print(f\"{'Eric Idle'}\")\n",
    "print(f\"The \\\"comedian\\\" is {name}, aged {age}.\")\n",
    "\n",
    "# 2. Dictionaries\n",
    "print('2. Dictionaries')\n",
    "info = {'name': 'Charles', 'age': 26}\n",
    "print(f\"The name is {info['name']}, aged {info['age']}.\")\n",
    "\n",
    "# 3. Braces\n",
    "print('3. Braces')\n",
    "print(f\"{{ {74+1} }}\")\n",
    "\n",
    "# 4. Backslashes\n",
    "print('4. Backslashes')\n",
    "# you can’t use backslashes to escape in the expression part of an f-string\n",
    "\n",
    "# no inline comment\n",
    "\n"
   ]
  },
  {
   "cell_type": "markdown",
   "metadata": {},
   "source": [
    "#### 4. Template Strings (Standard Library)\n",
    "safer choice if you’re handling format strings generated from user input"
   ]
  },
  {
   "cell_type": "code",
   "execution_count": 94,
   "metadata": {},
   "outputs": [
    {
     "data": {
      "text/plain": [
       "'Hey, Charles!'"
      ]
     },
     "execution_count": 94,
     "metadata": {},
     "output_type": "execute_result"
    }
   ],
   "source": [
    "from string import Template\n",
    "t = Template('Hey, $name!')\n",
    "name = 'Charles'\n",
    "t.substitute(name=name)"
   ]
  }
 ],
 "metadata": {
  "kernelspec": {
   "display_name": "Python 3",
   "language": "python",
   "name": "python3"
  },
  "language_info": {
   "codemirror_mode": {
    "name": "ipython",
    "version": 3
   },
   "file_extension": ".py",
   "mimetype": "text/x-python",
   "name": "python",
   "nbconvert_exporter": "python",
   "pygments_lexer": "ipython3",
   "version": "3.6.4"
  }
 },
 "nbformat": 4,
 "nbformat_minor": 2
}
